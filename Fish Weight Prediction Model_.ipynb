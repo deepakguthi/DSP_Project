{
 "cells": [
  {
   "cell_type": "markdown",
   "id": "0e08d4de",
   "metadata": {},
   "source": [
    "# Fish Weight Prediction Model"
   ]
  },
  {
   "cell_type": "markdown",
   "id": "0b72dd99",
   "metadata": {},
   "source": [
    "# Introduction\n",
    "\n",
    "\n",
    "Machine learning model to predict the weight of the fish based on the body measurement data of seven types of fish species. You can download the dataset from Kaggle. [Fish](https://www.kaggle.com/aungpyaeap/fish-market)\n",
    " \n",
    "I am going to use Linear model from sklearn library. Since there are multiple features its **Multiple/Multi Variable Linear Regression** problem.\n",
    "\n"
   ]
  },
  {
   "cell_type": "markdown",
   "id": "b687fd46",
   "metadata": {
    "papermill": {
     "duration": 0.019286,
     "end_time": "2022-08-07T10:29:19.429727",
     "exception": false,
     "start_time": "2022-08-07T10:29:19.410441",
     "status": "completed"
    },
    "tags": []
   },
   "source": [
    "# Importing Libraries"
   ]
  },
  {
   "cell_type": "markdown",
   "id": "49108775",
   "metadata": {},
   "source": [
    "* numpy : Numpy is the core library for scientific computing in Python. It is used for working with arrays and matrices.\n",
    "* pandas: Used for data manipulation and analysis\n",
    "* matplotlib : It’s plotting library, and we are going to use it for data visualization\n",
    "* seaborn : It is also data visualization library, based on matplotlib\n",
    "* linear_model: Sklearn linear regression model\n",
    "* train_test_split : helper function from Sklearn library for splitting the dataset"
   ]
  },
  {
   "cell_type": "code",
   "execution_count": 1,
   "id": "1eef2256",
   "metadata": {
    "execution": {
     "iopub.execute_input": "2022-08-07T10:29:19.458560Z",
     "iopub.status.busy": "2022-08-07T10:29:19.457790Z",
     "iopub.status.idle": "2022-08-07T10:29:20.981032Z",
     "shell.execute_reply": "2022-08-07T10:29:20.979990Z"
    },
    "papermill": {
     "duration": 1.540984,
     "end_time": "2022-08-07T10:29:20.984138",
     "exception": false,
     "start_time": "2022-08-07T10:29:19.443154",
     "status": "completed"
    },
    "tags": []
   },
   "outputs": [],
   "source": [
    "import warnings\n",
    "warnings.filterwarnings('ignore')\n",
    "import pandas as pd\n",
    "import matplotlib.pyplot as plt\n",
    "import seaborn as sns\n",
    "import numpy as np\n",
    "from sklearn.linear_model import LinearRegression\n",
    "from sklearn.model_selection import train_test_split"
   ]
  },
  {
   "cell_type": "markdown",
   "id": "4a132014",
   "metadata": {
    "papermill": {
     "duration": 0.012902,
     "end_time": "2022-08-07T10:29:21.010959",
     "exception": false,
     "start_time": "2022-08-07T10:29:20.998057",
     "status": "completed"
    },
    "tags": []
   },
   "source": [
    "# Extracting Data"
   ]
  },
  {
   "cell_type": "code",
   "execution_count": 2,
   "id": "4b8353af",
   "metadata": {
    "execution": {
     "iopub.execute_input": "2022-08-07T10:29:21.040217Z",
     "iopub.status.busy": "2022-08-07T10:29:21.039767Z",
     "iopub.status.idle": "2022-08-07T10:29:21.063540Z",
     "shell.execute_reply": "2022-08-07T10:29:21.062387Z"
    },
    "papermill": {
     "duration": 0.041948,
     "end_time": "2022-08-07T10:29:21.066195",
     "exception": false,
     "start_time": "2022-08-07T10:29:21.024247",
     "status": "completed"
    },
    "tags": []
   },
   "outputs": [],
   "source": [
    "data=pd.read_csv('Fish.csv')"
   ]
  },
  {
   "cell_type": "code",
   "execution_count": 3,
   "id": "6bc52bfd",
   "metadata": {
    "execution": {
     "iopub.execute_input": "2022-08-07T10:29:21.094908Z",
     "iopub.status.busy": "2022-08-07T10:29:21.094014Z",
     "iopub.status.idle": "2022-08-07T10:29:21.117830Z",
     "shell.execute_reply": "2022-08-07T10:29:21.116809Z"
    },
    "papermill": {
     "duration": 0.040574,
     "end_time": "2022-08-07T10:29:21.120000",
     "exception": false,
     "start_time": "2022-08-07T10:29:21.079426",
     "status": "completed"
    },
    "scrolled": false,
    "tags": []
   },
   "outputs": [
    {
     "data": {
      "text/html": [
       "<div>\n",
       "<style scoped>\n",
       "    .dataframe tbody tr th:only-of-type {\n",
       "        vertical-align: middle;\n",
       "    }\n",
       "\n",
       "    .dataframe tbody tr th {\n",
       "        vertical-align: top;\n",
       "    }\n",
       "\n",
       "    .dataframe thead th {\n",
       "        text-align: right;\n",
       "    }\n",
       "</style>\n",
       "<table border=\"1\" class=\"dataframe\">\n",
       "  <thead>\n",
       "    <tr style=\"text-align: right;\">\n",
       "      <th></th>\n",
       "      <th>Species</th>\n",
       "      <th>Weight</th>\n",
       "      <th>Length1</th>\n",
       "      <th>Length2</th>\n",
       "      <th>Length3</th>\n",
       "      <th>Height</th>\n",
       "      <th>Width</th>\n",
       "    </tr>\n",
       "  </thead>\n",
       "  <tbody>\n",
       "    <tr>\n",
       "      <th>0</th>\n",
       "      <td>Bream</td>\n",
       "      <td>242.0</td>\n",
       "      <td>23.2</td>\n",
       "      <td>25.4</td>\n",
       "      <td>30.0</td>\n",
       "      <td>11.5200</td>\n",
       "      <td>4.0200</td>\n",
       "    </tr>\n",
       "    <tr>\n",
       "      <th>1</th>\n",
       "      <td>Bream</td>\n",
       "      <td>290.0</td>\n",
       "      <td>24.0</td>\n",
       "      <td>26.3</td>\n",
       "      <td>31.2</td>\n",
       "      <td>12.4800</td>\n",
       "      <td>4.3056</td>\n",
       "    </tr>\n",
       "    <tr>\n",
       "      <th>2</th>\n",
       "      <td>Bream</td>\n",
       "      <td>340.0</td>\n",
       "      <td>23.9</td>\n",
       "      <td>26.5</td>\n",
       "      <td>31.1</td>\n",
       "      <td>12.3778</td>\n",
       "      <td>4.6961</td>\n",
       "    </tr>\n",
       "    <tr>\n",
       "      <th>3</th>\n",
       "      <td>Bream</td>\n",
       "      <td>363.0</td>\n",
       "      <td>26.3</td>\n",
       "      <td>29.0</td>\n",
       "      <td>33.5</td>\n",
       "      <td>12.7300</td>\n",
       "      <td>4.4555</td>\n",
       "    </tr>\n",
       "    <tr>\n",
       "      <th>4</th>\n",
       "      <td>Bream</td>\n",
       "      <td>430.0</td>\n",
       "      <td>26.5</td>\n",
       "      <td>29.0</td>\n",
       "      <td>34.0</td>\n",
       "      <td>12.4440</td>\n",
       "      <td>5.1340</td>\n",
       "    </tr>\n",
       "  </tbody>\n",
       "</table>\n",
       "</div>"
      ],
      "text/plain": [
       "  Species  Weight  Length1  Length2  Length3   Height   Width\n",
       "0   Bream   242.0     23.2     25.4     30.0  11.5200  4.0200\n",
       "1   Bream   290.0     24.0     26.3     31.2  12.4800  4.3056\n",
       "2   Bream   340.0     23.9     26.5     31.1  12.3778  4.6961\n",
       "3   Bream   363.0     26.3     29.0     33.5  12.7300  4.4555\n",
       "4   Bream   430.0     26.5     29.0     34.0  12.4440  5.1340"
      ]
     },
     "execution_count": 3,
     "metadata": {},
     "output_type": "execute_result"
    }
   ],
   "source": [
    "data.head()"
   ]
  },
  {
   "cell_type": "code",
   "execution_count": 4,
   "id": "6ae4de03",
   "metadata": {},
   "outputs": [
    {
     "data": {
      "text/html": [
       "<div>\n",
       "<style scoped>\n",
       "    .dataframe tbody tr th:only-of-type {\n",
       "        vertical-align: middle;\n",
       "    }\n",
       "\n",
       "    .dataframe tbody tr th {\n",
       "        vertical-align: top;\n",
       "    }\n",
       "\n",
       "    .dataframe thead th {\n",
       "        text-align: right;\n",
       "    }\n",
       "</style>\n",
       "<table border=\"1\" class=\"dataframe\">\n",
       "  <thead>\n",
       "    <tr style=\"text-align: right;\">\n",
       "      <th></th>\n",
       "      <th>Species</th>\n",
       "      <th>Weight</th>\n",
       "      <th>Length1</th>\n",
       "      <th>Length2</th>\n",
       "      <th>Length3</th>\n",
       "      <th>Height</th>\n",
       "      <th>Width</th>\n",
       "    </tr>\n",
       "  </thead>\n",
       "  <tbody>\n",
       "    <tr>\n",
       "      <th>619</th>\n",
       "      <td>Smelt</td>\n",
       "      <td>12.2</td>\n",
       "      <td>11.5</td>\n",
       "      <td>12.2</td>\n",
       "      <td>13.4</td>\n",
       "      <td>2.0904</td>\n",
       "      <td>1.3936</td>\n",
       "    </tr>\n",
       "    <tr>\n",
       "      <th>620</th>\n",
       "      <td>Smelt</td>\n",
       "      <td>13.4</td>\n",
       "      <td>11.7</td>\n",
       "      <td>12.4</td>\n",
       "      <td>13.5</td>\n",
       "      <td>2.4300</td>\n",
       "      <td>1.2690</td>\n",
       "    </tr>\n",
       "    <tr>\n",
       "      <th>621</th>\n",
       "      <td>Smelt</td>\n",
       "      <td>12.2</td>\n",
       "      <td>12.1</td>\n",
       "      <td>13.0</td>\n",
       "      <td>13.8</td>\n",
       "      <td>2.2770</td>\n",
       "      <td>1.2558</td>\n",
       "    </tr>\n",
       "    <tr>\n",
       "      <th>622</th>\n",
       "      <td>Smelt</td>\n",
       "      <td>19.7</td>\n",
       "      <td>13.2</td>\n",
       "      <td>14.3</td>\n",
       "      <td>15.2</td>\n",
       "      <td>2.8728</td>\n",
       "      <td>2.0672</td>\n",
       "    </tr>\n",
       "    <tr>\n",
       "      <th>623</th>\n",
       "      <td>Smelt</td>\n",
       "      <td>19.9</td>\n",
       "      <td>13.8</td>\n",
       "      <td>15.0</td>\n",
       "      <td>16.2</td>\n",
       "      <td>2.9322</td>\n",
       "      <td>1.8792</td>\n",
       "    </tr>\n",
       "  </tbody>\n",
       "</table>\n",
       "</div>"
      ],
      "text/plain": [
       "    Species  Weight  Length1  Length2  Length3  Height   Width\n",
       "619   Smelt    12.2     11.5     12.2     13.4  2.0904  1.3936\n",
       "620   Smelt    13.4     11.7     12.4     13.5  2.4300  1.2690\n",
       "621   Smelt    12.2     12.1     13.0     13.8  2.2770  1.2558\n",
       "622   Smelt    19.7     13.2     14.3     15.2  2.8728  2.0672\n",
       "623   Smelt    19.9     13.8     15.0     16.2  2.9322  1.8792"
      ]
     },
     "execution_count": 4,
     "metadata": {},
     "output_type": "execute_result"
    }
   ],
   "source": [
    "data.tail()"
   ]
  },
  {
   "cell_type": "markdown",
   "id": "c96e7100",
   "metadata": {
    "papermill": {
     "duration": 0.012843,
     "end_time": "2022-08-07T10:29:21.146369",
     "exception": false,
     "start_time": "2022-08-07T10:29:21.133526",
     "status": "completed"
    },
    "tags": []
   },
   "source": [
    "Let's see columns of data"
   ]
  },
  {
   "cell_type": "code",
   "execution_count": 5,
   "id": "6c882b50",
   "metadata": {
    "execution": {
     "iopub.execute_input": "2022-08-07T10:29:21.175200Z",
     "iopub.status.busy": "2022-08-07T10:29:21.174397Z",
     "iopub.status.idle": "2022-08-07T10:29:21.181989Z",
     "shell.execute_reply": "2022-08-07T10:29:21.180930Z"
    },
    "papermill": {
     "duration": 0.024911,
     "end_time": "2022-08-07T10:29:21.184487",
     "exception": false,
     "start_time": "2022-08-07T10:29:21.159576",
     "status": "completed"
    },
    "tags": []
   },
   "outputs": [
    {
     "data": {
      "text/plain": [
       "Index(['Species', 'Weight', 'Length1', 'Length2', 'Length3', 'Height',\n",
       "       'Width'],\n",
       "      dtype='object')"
      ]
     },
     "execution_count": 5,
     "metadata": {},
     "output_type": "execute_result"
    }
   ],
   "source": [
    "data.columns"
   ]
  },
  {
   "cell_type": "markdown",
   "id": "35675c70",
   "metadata": {
    "papermill": {
     "duration": 0.013003,
     "end_time": "2022-08-07T10:29:21.210767",
     "exception": false,
     "start_time": "2022-08-07T10:29:21.197764",
     "status": "completed"
    },
    "tags": []
   },
   "source": [
    "We can see the shape of data"
   ]
  },
  {
   "cell_type": "code",
   "execution_count": 6,
   "id": "d1e74b49",
   "metadata": {
    "execution": {
     "iopub.execute_input": "2022-08-07T10:29:21.239022Z",
     "iopub.status.busy": "2022-08-07T10:29:21.238640Z",
     "iopub.status.idle": "2022-08-07T10:29:21.245538Z",
     "shell.execute_reply": "2022-08-07T10:29:21.244409Z"
    },
    "papermill": {
     "duration": 0.023664,
     "end_time": "2022-08-07T10:29:21.247801",
     "exception": false,
     "start_time": "2022-08-07T10:29:21.224137",
     "status": "completed"
    },
    "tags": []
   },
   "outputs": [
    {
     "data": {
      "text/plain": [
       "(624, 7)"
      ]
     },
     "execution_count": 6,
     "metadata": {},
     "output_type": "execute_result"
    }
   ],
   "source": [
    "data.shape"
   ]
  },
  {
   "cell_type": "markdown",
   "id": "8d8ea002",
   "metadata": {
    "papermill": {
     "duration": 0.01308,
     "end_time": "2022-08-07T10:29:21.274298",
     "exception": false,
     "start_time": "2022-08-07T10:29:21.261218",
     "status": "completed"
    },
    "tags": []
   },
   "source": [
    "As we see there are 159 observations"
   ]
  },
  {
   "cell_type": "code",
   "execution_count": 7,
   "id": "1b408ee2",
   "metadata": {
    "execution": {
     "iopub.execute_input": "2022-08-07T10:29:21.302637Z",
     "iopub.status.busy": "2022-08-07T10:29:21.301889Z",
     "iopub.status.idle": "2022-08-07T10:29:21.328440Z",
     "shell.execute_reply": "2022-08-07T10:29:21.326649Z"
    },
    "papermill": {
     "duration": 0.044561,
     "end_time": "2022-08-07T10:29:21.332014",
     "exception": false,
     "start_time": "2022-08-07T10:29:21.287453",
     "status": "completed"
    },
    "tags": []
   },
   "outputs": [
    {
     "name": "stdout",
     "output_type": "stream",
     "text": [
      "<class 'pandas.core.frame.DataFrame'>\n",
      "RangeIndex: 624 entries, 0 to 623\n",
      "Data columns (total 7 columns):\n",
      " #   Column   Non-Null Count  Dtype  \n",
      "---  ------   --------------  -----  \n",
      " 0   Species  624 non-null    object \n",
      " 1   Weight   624 non-null    float64\n",
      " 2   Length1  624 non-null    float64\n",
      " 3   Length2  624 non-null    float64\n",
      " 4   Length3  624 non-null    float64\n",
      " 5   Height   624 non-null    float64\n",
      " 6   Width    624 non-null    float64\n",
      "dtypes: float64(6), object(1)\n",
      "memory usage: 34.2+ KB\n"
     ]
    }
   ],
   "source": [
    "data.info()"
   ]
  },
  {
   "cell_type": "markdown",
   "id": "a9456f9e",
   "metadata": {
    "papermill": {
     "duration": 0.013143,
     "end_time": "2022-08-07T10:29:21.359152",
     "exception": false,
     "start_time": "2022-08-07T10:29:21.346009",
     "status": "completed"
    },
    "tags": []
   },
   "source": [
    "describe hepls us to see mean,count,std,min,max and percentages"
   ]
  },
  {
   "cell_type": "code",
   "execution_count": 8,
   "id": "03b57053",
   "metadata": {
    "execution": {
     "iopub.execute_input": "2022-08-07T10:29:21.388231Z",
     "iopub.status.busy": "2022-08-07T10:29:21.387805Z",
     "iopub.status.idle": "2022-08-07T10:29:21.422966Z",
     "shell.execute_reply": "2022-08-07T10:29:21.421734Z"
    },
    "papermill": {
     "duration": 0.052978,
     "end_time": "2022-08-07T10:29:21.426072",
     "exception": false,
     "start_time": "2022-08-07T10:29:21.373094",
     "status": "completed"
    },
    "tags": []
   },
   "outputs": [
    {
     "data": {
      "text/html": [
       "<div>\n",
       "<style scoped>\n",
       "    .dataframe tbody tr th:only-of-type {\n",
       "        vertical-align: middle;\n",
       "    }\n",
       "\n",
       "    .dataframe tbody tr th {\n",
       "        vertical-align: top;\n",
       "    }\n",
       "\n",
       "    .dataframe thead th {\n",
       "        text-align: right;\n",
       "    }\n",
       "</style>\n",
       "<table border=\"1\" class=\"dataframe\">\n",
       "  <thead>\n",
       "    <tr style=\"text-align: right;\">\n",
       "      <th></th>\n",
       "      <th>count</th>\n",
       "      <th>mean</th>\n",
       "      <th>std</th>\n",
       "      <th>min</th>\n",
       "      <th>25%</th>\n",
       "      <th>50%</th>\n",
       "      <th>75%</th>\n",
       "      <th>max</th>\n",
       "    </tr>\n",
       "  </thead>\n",
       "  <tbody>\n",
       "    <tr>\n",
       "      <th>Weight</th>\n",
       "      <td>624.0</td>\n",
       "      <td>376.900000</td>\n",
       "      <td>324.287452</td>\n",
       "      <td>0.0000</td>\n",
       "      <td>120.000000</td>\n",
       "      <td>271.0000</td>\n",
       "      <td>612.500000</td>\n",
       "      <td>1650.000</td>\n",
       "    </tr>\n",
       "    <tr>\n",
       "      <th>Length1</th>\n",
       "      <td>624.0</td>\n",
       "      <td>25.679808</td>\n",
       "      <td>9.174158</td>\n",
       "      <td>7.5000</td>\n",
       "      <td>19.000000</td>\n",
       "      <td>25.0000</td>\n",
       "      <td>32.125000</td>\n",
       "      <td>59.000</td>\n",
       "    </tr>\n",
       "    <tr>\n",
       "      <th>Length2</th>\n",
       "      <td>624.0</td>\n",
       "      <td>27.811218</td>\n",
       "      <td>9.847218</td>\n",
       "      <td>8.4000</td>\n",
       "      <td>21.000000</td>\n",
       "      <td>26.7500</td>\n",
       "      <td>35.000000</td>\n",
       "      <td>63.400</td>\n",
       "    </tr>\n",
       "    <tr>\n",
       "      <th>Length3</th>\n",
       "      <td>624.0</td>\n",
       "      <td>30.598237</td>\n",
       "      <td>10.751252</td>\n",
       "      <td>8.8000</td>\n",
       "      <td>23.025000</td>\n",
       "      <td>29.2500</td>\n",
       "      <td>39.425000</td>\n",
       "      <td>68.000</td>\n",
       "    </tr>\n",
       "    <tr>\n",
       "      <th>Height</th>\n",
       "      <td>624.0</td>\n",
       "      <td>8.947848</td>\n",
       "      <td>4.313020</td>\n",
       "      <td>1.7284</td>\n",
       "      <td>5.931675</td>\n",
       "      <td>7.6478</td>\n",
       "      <td>12.378550</td>\n",
       "      <td>18.957</td>\n",
       "    </tr>\n",
       "    <tr>\n",
       "      <th>Width</th>\n",
       "      <td>624.0</td>\n",
       "      <td>4.373817</td>\n",
       "      <td>1.665973</td>\n",
       "      <td>1.0476</td>\n",
       "      <td>3.369600</td>\n",
       "      <td>4.2433</td>\n",
       "      <td>5.424375</td>\n",
       "      <td>8.142</td>\n",
       "    </tr>\n",
       "  </tbody>\n",
       "</table>\n",
       "</div>"
      ],
      "text/plain": [
       "         count        mean         std     min         25%       50%  \\\n",
       "Weight   624.0  376.900000  324.287452  0.0000  120.000000  271.0000   \n",
       "Length1  624.0   25.679808    9.174158  7.5000   19.000000   25.0000   \n",
       "Length2  624.0   27.811218    9.847218  8.4000   21.000000   26.7500   \n",
       "Length3  624.0   30.598237   10.751252  8.8000   23.025000   29.2500   \n",
       "Height   624.0    8.947848    4.313020  1.7284    5.931675    7.6478   \n",
       "Width    624.0    4.373817    1.665973  1.0476    3.369600    4.2433   \n",
       "\n",
       "                75%       max  \n",
       "Weight   612.500000  1650.000  \n",
       "Length1   32.125000    59.000  \n",
       "Length2   35.000000    63.400  \n",
       "Length3   39.425000    68.000  \n",
       "Height    12.378550    18.957  \n",
       "Width      5.424375     8.142  "
      ]
     },
     "execution_count": 8,
     "metadata": {},
     "output_type": "execute_result"
    }
   ],
   "source": [
    "data.describe().T"
   ]
  },
  {
   "cell_type": "markdown",
   "id": "ed57b293",
   "metadata": {
    "papermill": {
     "duration": 0.013409,
     "end_time": "2022-08-07T10:29:21.457219",
     "exception": false,
     "start_time": "2022-08-07T10:29:21.443810",
     "status": "completed"
    },
    "tags": []
   },
   "source": [
    "Let's see missing values "
   ]
  },
  {
   "cell_type": "code",
   "execution_count": 9,
   "id": "5f5f5288",
   "metadata": {
    "execution": {
     "iopub.execute_input": "2022-08-07T10:29:21.486561Z",
     "iopub.status.busy": "2022-08-07T10:29:21.486144Z",
     "iopub.status.idle": "2022-08-07T10:29:21.496011Z",
     "shell.execute_reply": "2022-08-07T10:29:21.494811Z"
    },
    "papermill": {
     "duration": 0.027622,
     "end_time": "2022-08-07T10:29:21.498561",
     "exception": false,
     "start_time": "2022-08-07T10:29:21.470939",
     "status": "completed"
    },
    "tags": []
   },
   "outputs": [
    {
     "data": {
      "text/plain": [
       "Species    0\n",
       "Weight     0\n",
       "Length1    0\n",
       "Length2    0\n",
       "Length3    0\n",
       "Height     0\n",
       "Width      0\n",
       "dtype: int64"
      ]
     },
     "execution_count": 9,
     "metadata": {},
     "output_type": "execute_result"
    }
   ],
   "source": [
    "data.isnull().sum()"
   ]
  },
  {
   "cell_type": "markdown",
   "id": "3e323002",
   "metadata": {
    "papermill": {
     "duration": 0.014287,
     "end_time": "2022-08-07T10:29:22.000893",
     "exception": false,
     "start_time": "2022-08-07T10:29:21.986606",
     "status": "completed"
    },
    "tags": []
   },
   "source": [
    "Let's see 'Species' column  values"
   ]
  },
  {
   "cell_type": "code",
   "execution_count": 10,
   "id": "f76567f7",
   "metadata": {
    "execution": {
     "iopub.execute_input": "2022-08-07T10:29:22.032428Z",
     "iopub.status.busy": "2022-08-07T10:29:22.031961Z",
     "iopub.status.idle": "2022-08-07T10:29:22.037622Z",
     "shell.execute_reply": "2022-08-07T10:29:22.036704Z"
    },
    "papermill": {
     "duration": 0.024568,
     "end_time": "2022-08-07T10:29:22.040131",
     "exception": false,
     "start_time": "2022-08-07T10:29:22.015563",
     "status": "completed"
    },
    "tags": []
   },
   "outputs": [
    {
     "data": {
      "text/plain": [
       "Perch        224\n",
       "Bream        140\n",
       "Roach         80\n",
       "Pike          56\n",
       "Smelt         56\n",
       "Parkki        44\n",
       "Whitefish     24\n",
       "Name: Species, dtype: int64"
      ]
     },
     "execution_count": 10,
     "metadata": {},
     "output_type": "execute_result"
    }
   ],
   "source": [
    "Species=data['Species'].value_counts()\n",
    "Species"
   ]
  },
  {
   "cell_type": "markdown",
   "id": "bf09410d",
   "metadata": {
    "papermill": {
     "duration": 0.01453,
     "end_time": "2022-08-07T10:29:21.971770",
     "exception": false,
     "start_time": "2022-08-07T10:29:21.957240",
     "status": "completed"
    },
    "tags": []
   },
   "source": [
    "# Data visualization"
   ]
  },
  {
   "cell_type": "code",
   "execution_count": 11,
   "id": "44f1617a",
   "metadata": {
    "execution": {
     "iopub.execute_input": "2022-08-07T10:29:22.072338Z",
     "iopub.status.busy": "2022-08-07T10:29:22.071707Z",
     "iopub.status.idle": "2022-08-07T10:29:22.249372Z",
     "shell.execute_reply": "2022-08-07T10:29:22.248173Z"
    },
    "papermill": {
     "duration": 0.196319,
     "end_time": "2022-08-07T10:29:22.252005",
     "exception": false,
     "start_time": "2022-08-07T10:29:22.055686",
     "status": "completed"
    },
    "tags": []
   },
   "outputs": [
    {
     "data": {
      "image/png": "[encoded data removed]",
      "text/plain": [
       "<Figure size 864x576 with 1 Axes>"
      ]
     },
     "metadata": {
      "needs_background": "light"
     },
     "output_type": "display_data"
    }
   ],
   "source": [
    "plt.figure(figsize=(12, 8))\n",
    "sns.barplot(x=Species.index, y=Species.values)\n",
    "plt.title('Values of Species')\n",
    "plt.xlabel('Names')\n",
    "plt.ylabel('Count')\n",
    "plt.xticks(rotation=45)\n",
    "plt.show()"
   ]
  },
  {
   "cell_type": "markdown",
   "id": "cd3d5e0f",
   "metadata": {
    "papermill": {
     "duration": 0.014839,
     "end_time": "2022-08-07T10:29:22.281568",
     "exception": false,
     "start_time": "2022-08-07T10:29:22.266729",
     "status": "completed"
    },
    "tags": []
   },
   "source": [
    "Let's create pie chart using matplotlib to see the percentage of species"
   ]
  },
  {
   "cell_type": "code",
   "execution_count": 12,
   "id": "8e200317",
   "metadata": {
    "execution": {
     "iopub.execute_input": "2022-08-07T10:29:22.313166Z",
     "iopub.status.busy": "2022-08-07T10:29:22.312443Z",
     "iopub.status.idle": "2022-08-07T10:29:22.463351Z",
     "shell.execute_reply": "2022-08-07T10:29:22.461940Z"
    },
    "papermill": {
     "duration": 0.17196,
     "end_time": "2022-08-07T10:29:22.468373",
     "exception": false,
     "start_time": "2022-08-07T10:29:22.296413",
     "status": "completed"
    },
    "tags": []
   },
   "outputs": [
    {
     "data": {
      "image/png": "[encoded data removed]",
      "text/plain": [
       "<Figure size 864x576 with 1 Axes>"
      ]
     },
     "metadata": {},
     "output_type": "display_data"
    }
   ],
   "source": [
    "plt.figure(figsize=(12, 8))\n",
    "plt.pie(Species.values, labels=Species.index, autopct='%1.2f%%')\n",
    "plt.title('Species names')\n",
    "plt.show()"
   ]
  },
  {
   "cell_type": "markdown",
   "id": "89122486",
   "metadata": {
    "papermill": {
     "duration": 0.02886,
     "end_time": "2022-08-07T10:29:22.536320",
     "exception": false,
     "start_time": "2022-08-07T10:29:22.507460",
     "status": "completed"
    },
    "tags": []
   },
   "source": [
    "We can see how many unique values column have"
   ]
  },
  {
   "cell_type": "code",
   "execution_count": 13,
   "id": "5ef9e59e",
   "metadata": {
    "execution": {
     "iopub.execute_input": "2022-08-07T10:29:22.569482Z",
     "iopub.status.busy": "2022-08-07T10:29:22.568809Z",
     "iopub.status.idle": "2022-08-07T10:29:22.578919Z",
     "shell.execute_reply": "2022-08-07T10:29:22.578125Z"
    },
    "papermill": {
     "duration": 0.029431,
     "end_time": "2022-08-07T10:29:22.580995",
     "exception": false,
     "start_time": "2022-08-07T10:29:22.551564",
     "status": "completed"
    },
    "tags": []
   },
   "outputs": [
    {
     "data": {
      "text/plain": [
       "array([ 242. ,  290. ,  340. ,  363. ,  430. ,  450. ,  500. ,  390. ,\n",
       "        475. ,  600. ,  700. ,  610. ,  650. ,  575. ,  685. ,  620. ,\n",
       "        680. ,  725. ,  720. ,  714. ,  850. , 1000. ,  920. ,  955. ,\n",
       "        925. ,  975. ,  950. ,   40. ,   69. ,   78. ,   87. ,  120. ,\n",
       "          0. ,  110. ,  150. ,  145. ,  160. ,  140. ,  169. ,  161. ,\n",
       "        200. ,  180. ,  272. ,  270. ,  306. ,  540. ,  800. ,   55. ,\n",
       "         60. ,   90. ,  170. ,  273. ,  300. ,    5.9,   32. ,   51.5,\n",
       "         70. ,  100. ,   80. ,   85. ,  115. ,  125. ,  130. ,  135. ,\n",
       "        225. ,  188. ,  197. ,  218. ,  260. ,  265. ,  250. ,  320. ,\n",
       "        514. ,  556. ,  840. ,  690. ,  900. ,  820. , 1015. , 1100. ,\n",
       "        345. ,  456. ,  510. ,  567. ,  770. , 1250. , 1600. , 1550. ,\n",
       "       1650. ,    6.7,    7.5,    7. ,    9.7,    9.8,    8.7,   10. ,\n",
       "          9.9,   12.2,   13.4,   19.7,   19.9])"
      ]
     },
     "execution_count": 13,
     "metadata": {},
     "output_type": "execute_result"
    }
   ],
   "source": [
    "data['Weight'].unique()"
   ]
  },
  {
   "cell_type": "markdown",
   "id": "ff8e761a",
   "metadata": {
    "papermill": {
     "duration": 0.015662,
     "end_time": "2022-08-07T10:29:22.612056",
     "exception": false,
     "start_time": "2022-08-07T10:29:22.596394",
     "status": "completed"
    },
    "tags": []
   },
   "source": [
    "Let's see the relationship between the features"
   ]
  },
  {
   "cell_type": "markdown",
   "id": "d2b08228",
   "metadata": {
    "papermill": {
     "duration": 0.0156,
     "end_time": "2022-08-07T10:29:22.643584",
     "exception": false,
     "start_time": "2022-08-07T10:29:22.627984",
     "status": "completed"
    },
    "tags": []
   },
   "source": [
    "# Correlation Analysis"
   ]
  },
  {
   "cell_type": "markdown",
   "id": "0c60654e",
   "metadata": {},
   "source": [
    "* Correlation helps us investigate and establish relationships between variables\n",
    "* Correlation coefficient range from -1 to +1\n",
    "* Sign(+/-) indicate the direction and amount indicate the strength of correlation\n",
    "* +1.00 means perfect positive relationship\n",
    "* 0.00 means no relationship\n",
    "* -1.00 means perfect negative relationship"
   ]
  },
  {
   "cell_type": "code",
   "execution_count": 14,
   "id": "4731896e",
   "metadata": {
    "execution": {
     "iopub.execute_input": "2022-08-07T10:29:22.677148Z",
     "iopub.status.busy": "2022-08-07T10:29:22.676134Z",
     "iopub.status.idle": "2022-08-07T10:29:22.690214Z",
     "shell.execute_reply": "2022-08-07T10:29:22.689386Z"
    },
    "papermill": {
     "duration": 0.033021,
     "end_time": "2022-08-07T10:29:22.692487",
     "exception": false,
     "start_time": "2022-08-07T10:29:22.659466",
     "status": "completed"
    },
    "tags": []
   },
   "outputs": [
    {
     "data": {
      "text/html": [
       "<div>\n",
       "<style scoped>\n",
       "    .dataframe tbody tr th:only-of-type {\n",
       "        vertical-align: middle;\n",
       "    }\n",
       "\n",
       "    .dataframe tbody tr th {\n",
       "        vertical-align: top;\n",
       "    }\n",
       "\n",
       "    .dataframe thead th {\n",
       "        text-align: right;\n",
       "    }\n",
       "</style>\n",
       "<table border=\"1\" class=\"dataframe\">\n",
       "  <thead>\n",
       "    <tr style=\"text-align: right;\">\n",
       "      <th></th>\n",
       "      <th>Weight</th>\n",
       "      <th>Length1</th>\n",
       "      <th>Length2</th>\n",
       "      <th>Length3</th>\n",
       "      <th>Height</th>\n",
       "      <th>Width</th>\n",
       "    </tr>\n",
       "  </thead>\n",
       "  <tbody>\n",
       "    <tr>\n",
       "      <th>Weight</th>\n",
       "      <td>1.000000</td>\n",
       "      <td>0.898081</td>\n",
       "      <td>0.901891</td>\n",
       "      <td>0.908788</td>\n",
       "      <td>0.787693</td>\n",
       "      <td>0.912955</td>\n",
       "    </tr>\n",
       "    <tr>\n",
       "      <th>Length1</th>\n",
       "      <td>0.898081</td>\n",
       "      <td>1.000000</td>\n",
       "      <td>0.999425</td>\n",
       "      <td>0.990743</td>\n",
       "      <td>0.669376</td>\n",
       "      <td>0.883393</td>\n",
       "    </tr>\n",
       "    <tr>\n",
       "      <th>Length2</th>\n",
       "      <td>0.901891</td>\n",
       "      <td>0.999425</td>\n",
       "      <td>1.000000</td>\n",
       "      <td>0.993158</td>\n",
       "      <td>0.685137</td>\n",
       "      <td>0.889997</td>\n",
       "    </tr>\n",
       "    <tr>\n",
       "      <th>Length3</th>\n",
       "      <td>0.908788</td>\n",
       "      <td>0.990743</td>\n",
       "      <td>0.993158</td>\n",
       "      <td>1.000000</td>\n",
       "      <td>0.749094</td>\n",
       "      <td>0.891982</td>\n",
       "    </tr>\n",
       "    <tr>\n",
       "      <th>Height</th>\n",
       "      <td>0.787693</td>\n",
       "      <td>0.669376</td>\n",
       "      <td>0.685137</td>\n",
       "      <td>0.749094</td>\n",
       "      <td>1.000000</td>\n",
       "      <td>0.800523</td>\n",
       "    </tr>\n",
       "    <tr>\n",
       "      <th>Width</th>\n",
       "      <td>0.912955</td>\n",
       "      <td>0.883393</td>\n",
       "      <td>0.889997</td>\n",
       "      <td>0.891982</td>\n",
       "      <td>0.800523</td>\n",
       "      <td>1.000000</td>\n",
       "    </tr>\n",
       "  </tbody>\n",
       "</table>\n",
       "</div>"
      ],
      "text/plain": [
       "           Weight   Length1   Length2   Length3    Height     Width\n",
       "Weight   1.000000  0.898081  0.901891  0.908788  0.787693  0.912955\n",
       "Length1  0.898081  1.000000  0.999425  0.990743  0.669376  0.883393\n",
       "Length2  0.901891  0.999425  1.000000  0.993158  0.685137  0.889997\n",
       "Length3  0.908788  0.990743  0.993158  1.000000  0.749094  0.891982\n",
       "Height   0.787693  0.669376  0.685137  0.749094  1.000000  0.800523\n",
       "Width    0.912955  0.883393  0.889997  0.891982  0.800523  1.000000"
      ]
     },
     "execution_count": 14,
     "metadata": {},
     "output_type": "execute_result"
    }
   ],
   "source": [
    "data.corr()"
   ]
  },
  {
   "cell_type": "markdown",
   "id": "85527858",
   "metadata": {
    "papermill": {
     "duration": 0.015469,
     "end_time": "2022-08-07T10:29:22.723725",
     "exception": false,
     "start_time": "2022-08-07T10:29:22.708256",
     "status": "completed"
    },
    "tags": []
   },
   "source": [
    "Let's visualize "
   ]
  },
  {
   "cell_type": "code",
   "execution_count": 15,
   "id": "651e63e7",
   "metadata": {},
   "outputs": [
    {
     "data": {
      "image/png": "[encoded data removed]",
      "text/plain": [
       "<Figure size 504x432 with 2 Axes>"
      ]
     },
     "metadata": {
      "needs_background": "light"
     },
     "output_type": "display_data"
    }
   ],
   "source": [
    "plt.figure(figsize=(7,6))\n",
    "corr = data.corr()\n",
    "sns.heatmap(corr, \n",
    "            xticklabels=corr.columns.values,\n",
    "            yticklabels=corr.columns.values, annot=True)\n",
    "plt.show()"
   ]
  },
  {
   "cell_type": "code",
   "execution_count": 16,
   "id": "1d96b4cd",
   "metadata": {
    "execution": {
     "iopub.execute_input": "2022-08-07T10:29:23.244207Z",
     "iopub.status.busy": "2022-08-07T10:29:23.243586Z",
     "iopub.status.idle": "2022-08-07T10:29:29.663764Z",
     "shell.execute_reply": "2022-08-07T10:29:29.662423Z"
    },
    "papermill": {
     "duration": 6.44203,
     "end_time": "2022-08-07T10:29:29.667949",
     "exception": false,
     "start_time": "2022-08-07T10:29:23.225919",
     "status": "completed"
    },
    "tags": []
   },
   "outputs": [
    {
     "data": {
      "image/png": "[encoded data removed]",
      "text/plain": [
       "<Figure size 1080x1080 with 42 Axes>"
      ]
     },
     "metadata": {
      "needs_background": "light"
     },
     "output_type": "display_data"
    }
   ],
   "source": [
    "sns.pairplot(data, kind='scatter')\n",
    "plt.show()"
   ]
  },
  {
   "cell_type": "markdown",
   "id": "8bba8247",
   "metadata": {
    "papermill": {
     "duration": 0.018475,
     "end_time": "2022-08-07T10:29:29.706032",
     "exception": false,
     "start_time": "2022-08-07T10:29:29.687557",
     "status": "completed"
    },
    "tags": []
   },
   "source": [
    "Let's get numeric data , write function & use scatterplot "
   ]
  },
  {
   "cell_type": "code",
   "execution_count": 17,
   "id": "733ceb6a",
   "metadata": {
    "execution": {
     "iopub.execute_input": "2022-08-07T10:29:29.746681Z",
     "iopub.status.busy": "2022-08-07T10:29:29.745745Z",
     "iopub.status.idle": "2022-08-07T10:29:29.750397Z",
     "shell.execute_reply": "2022-08-07T10:29:29.749590Z"
    },
    "papermill": {
     "duration": 0.027567,
     "end_time": "2022-08-07T10:29:29.752502",
     "exception": false,
     "start_time": "2022-08-07T10:29:29.724935",
     "status": "completed"
    },
    "tags": []
   },
   "outputs": [
    {
     "data": {
      "text/plain": [
       "Index(['Weight', 'Length1', 'Length2', 'Length3', 'Height', 'Width'], dtype='object')"
      ]
     },
     "execution_count": 17,
     "metadata": {},
     "output_type": "execute_result"
    }
   ],
   "source": [
    "numeric_columns=data._get_numeric_data().columns\n",
    "numeric_columns"
   ]
  },
  {
   "cell_type": "code",
   "execution_count": 18,
   "id": "aa933f33",
   "metadata": {
    "execution": {
     "iopub.execute_input": "2022-08-07T10:29:29.792809Z",
     "iopub.status.busy": "2022-08-07T10:29:29.792156Z",
     "iopub.status.idle": "2022-08-07T10:29:30.865762Z",
     "shell.execute_reply": "2022-08-07T10:29:30.864447Z"
    },
    "papermill": {
     "duration": 1.09716,
     "end_time": "2022-08-07T10:29:30.868645",
     "exception": false,
     "start_time": "2022-08-07T10:29:29.771485",
     "status": "completed"
    },
    "tags": []
   },
   "outputs": [
    {
     "data": {
      "image/png": "[encoded data removed]",
      "text/plain": [
       "<Figure size 432x288 with 1 Axes>"
      ]
     },
     "metadata": {
      "needs_background": "light"
     },
     "output_type": "display_data"
    },
    {
     "data": {
      "image/png": "[encoded data removed]",
      "text/plain": [
       "<Figure size 432x288 with 1 Axes>"
      ]
     },
     "metadata": {
      "needs_background": "light"
     },
     "output_type": "display_data"
    },
    {
     "data": {
      "image/png": "[encoded data removed]",
      "text/plain": [
       "<Figure size 432x288 with 1 Axes>"
      ]
     },
     "metadata": {
      "needs_background": "light"
     },
     "output_type": "display_data"
    },
    {
     "data": {
      "image/png": "[encoded data removed]",
      "text/plain": [
       "<Figure size 432x288 with 1 Axes>"
      ]
     },
     "metadata": {
      "needs_background": "light"
     },
     "output_type": "display_data"
    },
    {
     "data": {
      "image/png": "[encoded data removed]",
      "text/plain": [
       "<Figure size 432x288 with 1 Axes>"
      ]
     },
     "metadata": {
      "needs_background": "light"
     },
     "output_type": "display_data"
    }
   ],
   "source": [
    "for col in numeric_columns:\n",
    "    if col!='Weight':\n",
    "      sns.scatterplot(x=col,y='Weight',data=data)\n",
    "    plt.show()"
   ]
  },
  {
   "cell_type": "code",
   "execution_count": 19,
   "id": "08419ce2",
   "metadata": {
    "execution": {
     "iopub.execute_input": "2022-08-07T10:29:31.620919Z",
     "iopub.status.busy": "2022-08-07T10:29:31.620523Z",
     "iopub.status.idle": "2022-08-07T10:29:31.627340Z",
     "shell.execute_reply": "2022-08-07T10:29:31.626196Z"
    },
    "papermill": {
     "duration": 0.032881,
     "end_time": "2022-08-07T10:29:31.630256",
     "exception": false,
     "start_time": "2022-08-07T10:29:31.597375",
     "status": "completed"
    },
    "tags": []
   },
   "outputs": [
    {
     "name": "stdout",
     "output_type": "stream",
     "text": [
      "Max length of fish: 59.0\n",
      "Min length of fish: 7.5\n",
      "Average length of fish: 25.679807692307676\n"
     ]
    }
   ],
   "source": [
    "print('Max length of fish:',data['Length1'].max())\n",
    "print('Min length of fish:',data['Length1'].min())\n",
    "print('Average length of fish:',data['Length1'].mean())"
   ]
  },
  {
   "cell_type": "markdown",
   "id": "6a5be31e",
   "metadata": {
    "papermill": {
     "duration": 0.020519,
     "end_time": "2022-08-07T10:29:31.671994",
     "exception": false,
     "start_time": "2022-08-07T10:29:31.651475",
     "status": "completed"
    },
    "tags": []
   },
   "source": [
    "# Finding Outliers "
   ]
  },
  {
   "cell_type": "markdown",
   "id": "78a2ea0d",
   "metadata": {},
   "source": [
    "* Outlier is an extremely high or extremely low value in our data\n",
    "* We use below formula to identify the outlier\n",
    "  ```\n",
    "    ( Greater than Q3 + 1.5 * IQR ) OR ( Lower than Q1 -1.5 * IQR )\n",
    " \n",
    "    where,\n",
    "    Q1  = First quartile\n",
    "    Q3  = Third quartile\n",
    "    IQR = Interquartile range (Q3 - Q1)\n",
    "  ```\n",
    " \n",
    "* Lets use box plot for outlier visualization. \n",
    "* Vertical line on the left side of box plot represent the 'min' value of dataset and vertical line on right side of box plot represent the 'max' value of dataset."
   ]
  },
  {
   "cell_type": "code",
   "execution_count": 20,
   "id": "6461a08c",
   "metadata": {
    "execution": {
     "iopub.execute_input": "2022-08-07T10:29:31.715512Z",
     "iopub.status.busy": "2022-08-07T10:29:31.714788Z",
     "iopub.status.idle": "2022-08-07T10:29:32.346445Z",
     "shell.execute_reply": "2022-08-07T10:29:32.345188Z"
    },
    "papermill": {
     "duration": 0.6563,
     "end_time": "2022-08-07T10:29:32.349076",
     "exception": false,
     "start_time": "2022-08-07T10:29:31.692776",
     "status": "completed"
    },
    "tags": []
   },
   "outputs": [
    {
     "data": {
      "image/png": "[encoded data removed]",
      "text/plain": [
       "<Figure size 432x288 with 1 Axes>"
      ]
     },
     "metadata": {
      "needs_background": "light"
     },
     "output_type": "display_data"
    },
    {
     "data": {
      "image/png": "[encoded data removed]",
      "text/plain": [
       "<Figure size 432x288 with 1 Axes>"
      ]
     },
     "metadata": {
      "needs_background": "light"
     },
     "output_type": "display_data"
    },
    {
     "data": {
      "image/png": "[encoded data removed]",
      "text/plain": [
       "<Figure size 432x288 with 1 Axes>"
      ]
     },
     "metadata": {
      "needs_background": "light"
     },
     "output_type": "display_data"
    },
    {
     "data": {
      "image/png": "[encoded data removed]",
      "text/plain": [
       "<Figure size 432x288 with 1 Axes>"
      ]
     },
     "metadata": {
      "needs_background": "light"
     },
     "output_type": "display_data"
    },
    {
     "data": {
      "image/png": "[encoded data removed]",
      "text/plain": [
       "<Figure size 432x288 with 1 Axes>"
      ]
     },
     "metadata": {
      "needs_background": "light"
     },
     "output_type": "display_data"
    },
    {
     "data": {
      "image/png": "[encoded data removed]",
      "text/plain": [
       "<Figure size 432x288 with 1 Axes>"
      ]
     },
     "metadata": {
      "needs_background": "light"
     },
     "output_type": "display_data"
    }
   ],
   "source": [
    "for col in numeric_columns:\n",
    "    plt.title(col)\n",
    "    sns.boxplot(data[col])\n",
    "    plt.show()"
   ]
  },
  {
   "cell_type": "code",
   "execution_count": 21,
   "id": "575fc36e",
   "metadata": {
    "execution": {
     "iopub.execute_input": "2022-08-07T10:29:32.396043Z",
     "iopub.status.busy": "2022-08-07T10:29:32.395373Z",
     "iopub.status.idle": "2022-08-07T10:29:32.401707Z",
     "shell.execute_reply": "2022-08-07T10:29:32.400951Z"
    },
    "papermill": {
     "duration": 0.032843,
     "end_time": "2022-08-07T10:29:32.404131",
     "exception": false,
     "start_time": "2022-08-07T10:29:32.371288",
     "status": "completed"
    },
    "tags": []
   },
   "outputs": [],
   "source": [
    "def outliers(df, col):\n",
    "    Q1=df[col].quantile(0.25)\n",
    "    Q3=df[col].quantile(0.75)\n",
    "    IQR=Q3-Q1\n",
    "    lower_bound=Q1-1.5*IQR\n",
    "    upper_bound=Q3+1.5*IQR\n",
    "    return df[ (df[col]<lower_bound) | (df[col]>upper_bound) ]"
   ]
  },
  {
   "cell_type": "code",
   "execution_count": 22,
   "id": "3a43f5ed",
   "metadata": {
    "execution": {
     "iopub.execute_input": "2022-08-07T10:29:32.450062Z",
     "iopub.status.busy": "2022-08-07T10:29:32.449635Z",
     "iopub.status.idle": "2022-08-07T10:29:32.485847Z",
     "shell.execute_reply": "2022-08-07T10:29:32.484174Z"
    },
    "papermill": {
     "duration": 0.062788,
     "end_time": "2022-08-07T10:29:32.489486",
     "exception": false,
     "start_time": "2022-08-07T10:29:32.426698",
     "status": "completed"
    },
    "tags": []
   },
   "outputs": [
    {
     "name": "stdout",
     "output_type": "stream",
     "text": [
      "#################### Weight ####################\n",
      "    Species  Weight  Length1  Length2  Length3  Height  Width\n",
      "142    Pike  1600.0     56.0     60.0     64.0   9.600  6.144\n",
      "143    Pike  1550.0     56.0     60.0     64.0   9.600  6.144\n",
      "144    Pike  1650.0     59.0     63.4     68.0  10.812  7.480\n",
      "#################### Length1 ####################\n",
      "    Species  Weight  Length1  Length2  Length3   Height   Width\n",
      "141    Pike  1250.0     52.0     56.0     59.7  10.6863  6.9849\n",
      "142    Pike  1600.0     56.0     60.0     64.0   9.6000  6.1440\n",
      "143    Pike  1550.0     56.0     60.0     64.0   9.6000  6.1440\n",
      "144    Pike  1650.0     59.0     63.4     68.0  10.8120  7.4800\n",
      "#################### Length2 ####################\n",
      "    Species  Weight  Length1  Length2  Length3  Height  Width\n",
      "142    Pike  1600.0     56.0     60.0     64.0   9.600  6.144\n",
      "143    Pike  1550.0     56.0     60.0     64.0   9.600  6.144\n",
      "144    Pike  1650.0     59.0     63.4     68.0  10.812  7.480\n",
      "#################### Length3 ####################\n",
      "    Species  Weight  Length1  Length2  Length3  Height  Width\n",
      "144    Pike  1650.0     59.0     63.4     68.0  10.812   7.48\n",
      "#################### Height ####################\n",
      "Empty DataFrame\n",
      "Columns: [Species, Weight, Length1, Length2, Length3, Height, Width]\n",
      "Index: []\n",
      "#################### Width ####################\n",
      "Empty DataFrame\n",
      "Columns: [Species, Weight, Length1, Length2, Length3, Height, Width]\n",
      "Index: []\n"
     ]
    }
   ],
   "source": [
    "for col in numeric_columns:\n",
    "    print('#'*20, col ,'#'*20)\n",
    "    print(outliers(data, col))"
   ]
  },
  {
   "cell_type": "code",
   "execution_count": 23,
   "id": "ce823f38",
   "metadata": {
    "execution": {
     "iopub.execute_input": "2022-08-07T10:29:32.535973Z",
     "iopub.status.busy": "2022-08-07T10:29:32.535245Z",
     "iopub.status.idle": "2022-08-07T10:29:32.549141Z",
     "shell.execute_reply": "2022-08-07T10:29:32.548309Z"
    },
    "papermill": {
     "duration": 0.039442,
     "end_time": "2022-08-07T10:29:32.551338",
     "exception": false,
     "start_time": "2022-08-07T10:29:32.511896",
     "status": "completed"
    },
    "tags": []
   },
   "outputs": [
    {
     "data": {
      "text/html": [
       "<div>\n",
       "<style scoped>\n",
       "    .dataframe tbody tr th:only-of-type {\n",
       "        vertical-align: middle;\n",
       "    }\n",
       "\n",
       "    .dataframe tbody tr th {\n",
       "        vertical-align: top;\n",
       "    }\n",
       "\n",
       "    .dataframe thead th {\n",
       "        text-align: right;\n",
       "    }\n",
       "</style>\n",
       "<table border=\"1\" class=\"dataframe\">\n",
       "  <thead>\n",
       "    <tr style=\"text-align: right;\">\n",
       "      <th></th>\n",
       "      <th>Species</th>\n",
       "      <th>Weight</th>\n",
       "      <th>Length1</th>\n",
       "      <th>Length2</th>\n",
       "      <th>Length3</th>\n",
       "      <th>Height</th>\n",
       "      <th>Width</th>\n",
       "    </tr>\n",
       "  </thead>\n",
       "  <tbody>\n",
       "    <tr>\n",
       "      <th>140</th>\n",
       "      <td>Pike</td>\n",
       "      <td>950.0</td>\n",
       "      <td>48.3</td>\n",
       "      <td>51.7</td>\n",
       "      <td>55.1</td>\n",
       "      <td>8.9262</td>\n",
       "      <td>6.1712</td>\n",
       "    </tr>\n",
       "    <tr>\n",
       "      <th>141</th>\n",
       "      <td>Pike</td>\n",
       "      <td>1250.0</td>\n",
       "      <td>52.0</td>\n",
       "      <td>56.0</td>\n",
       "      <td>59.7</td>\n",
       "      <td>10.6863</td>\n",
       "      <td>6.9849</td>\n",
       "    </tr>\n",
       "    <tr>\n",
       "      <th>142</th>\n",
       "      <td>Pike</td>\n",
       "      <td>1600.0</td>\n",
       "      <td>56.0</td>\n",
       "      <td>60.0</td>\n",
       "      <td>64.0</td>\n",
       "      <td>9.6000</td>\n",
       "      <td>6.1440</td>\n",
       "    </tr>\n",
       "    <tr>\n",
       "      <th>143</th>\n",
       "      <td>Pike</td>\n",
       "      <td>1550.0</td>\n",
       "      <td>56.0</td>\n",
       "      <td>60.0</td>\n",
       "      <td>64.0</td>\n",
       "      <td>9.6000</td>\n",
       "      <td>6.1440</td>\n",
       "    </tr>\n",
       "    <tr>\n",
       "      <th>144</th>\n",
       "      <td>Pike</td>\n",
       "      <td>1650.0</td>\n",
       "      <td>59.0</td>\n",
       "      <td>63.4</td>\n",
       "      <td>68.0</td>\n",
       "      <td>10.8120</td>\n",
       "      <td>7.4800</td>\n",
       "    </tr>\n",
       "    <tr>\n",
       "      <th>145</th>\n",
       "      <td>Smelt</td>\n",
       "      <td>6.7</td>\n",
       "      <td>9.3</td>\n",
       "      <td>9.8</td>\n",
       "      <td>10.8</td>\n",
       "      <td>1.7388</td>\n",
       "      <td>1.0476</td>\n",
       "    </tr>\n",
       "  </tbody>\n",
       "</table>\n",
       "</div>"
      ],
      "text/plain": [
       "    Species  Weight  Length1  Length2  Length3   Height   Width\n",
       "140    Pike   950.0     48.3     51.7     55.1   8.9262  6.1712\n",
       "141    Pike  1250.0     52.0     56.0     59.7  10.6863  6.9849\n",
       "142    Pike  1600.0     56.0     60.0     64.0   9.6000  6.1440\n",
       "143    Pike  1550.0     56.0     60.0     64.0   9.6000  6.1440\n",
       "144    Pike  1650.0     59.0     63.4     68.0  10.8120  7.4800\n",
       "145   Smelt     6.7      9.3      9.8     10.8   1.7388  1.0476"
      ]
     },
     "execution_count": 23,
     "metadata": {},
     "output_type": "execute_result"
    }
   ],
   "source": [
    "data.loc[140:145, :]"
   ]
  },
  {
   "cell_type": "code",
   "execution_count": 24,
   "id": "6ecd36c8",
   "metadata": {
    "execution": {
     "iopub.execute_input": "2022-08-07T10:29:32.597944Z",
     "iopub.status.busy": "2022-08-07T10:29:32.597210Z",
     "iopub.status.idle": "2022-08-07T10:29:32.602900Z",
     "shell.execute_reply": "2022-08-07T10:29:32.602038Z"
    },
    "papermill": {
     "duration": 0.031344,
     "end_time": "2022-08-07T10:29:32.605064",
     "exception": false,
     "start_time": "2022-08-07T10:29:32.573720",
     "status": "completed"
    },
    "tags": []
   },
   "outputs": [],
   "source": [
    "data.drop([141, 142, 143, 144], inplace=True)"
   ]
  },
  {
   "cell_type": "code",
   "execution_count": 25,
   "id": "07c96bc3",
   "metadata": {},
   "outputs": [
    {
     "data": {
      "text/html": [
       "<div>\n",
       "<style scoped>\n",
       "    .dataframe tbody tr th:only-of-type {\n",
       "        vertical-align: middle;\n",
       "    }\n",
       "\n",
       "    .dataframe tbody tr th {\n",
       "        vertical-align: top;\n",
       "    }\n",
       "\n",
       "    .dataframe thead th {\n",
       "        text-align: right;\n",
       "    }\n",
       "</style>\n",
       "<table border=\"1\" class=\"dataframe\">\n",
       "  <thead>\n",
       "    <tr style=\"text-align: right;\">\n",
       "      <th></th>\n",
       "      <th>Species</th>\n",
       "      <th>Weight</th>\n",
       "      <th>Length1</th>\n",
       "      <th>Length2</th>\n",
       "      <th>Length3</th>\n",
       "      <th>Height</th>\n",
       "      <th>Width</th>\n",
       "    </tr>\n",
       "  </thead>\n",
       "  <tbody>\n",
       "    <tr>\n",
       "      <th>140</th>\n",
       "      <td>Pike</td>\n",
       "      <td>950.0</td>\n",
       "      <td>48.3</td>\n",
       "      <td>51.7</td>\n",
       "      <td>55.1</td>\n",
       "      <td>8.9262</td>\n",
       "      <td>6.1712</td>\n",
       "    </tr>\n",
       "    <tr>\n",
       "      <th>145</th>\n",
       "      <td>Smelt</td>\n",
       "      <td>6.7</td>\n",
       "      <td>9.3</td>\n",
       "      <td>9.8</td>\n",
       "      <td>10.8</td>\n",
       "      <td>1.7388</td>\n",
       "      <td>1.0476</td>\n",
       "    </tr>\n",
       "  </tbody>\n",
       "</table>\n",
       "</div>"
      ],
      "text/plain": [
       "    Species  Weight  Length1  Length2  Length3  Height   Width\n",
       "140    Pike   950.0     48.3     51.7     55.1  8.9262  6.1712\n",
       "145   Smelt     6.7      9.3      9.8     10.8  1.7388  1.0476"
      ]
     },
     "execution_count": 25,
     "metadata": {},
     "output_type": "execute_result"
    }
   ],
   "source": [
    "data.loc[140:145, :]"
   ]
  },
  {
   "cell_type": "code",
   "execution_count": 26,
   "id": "88d32c96",
   "metadata": {
    "execution": {
     "iopub.execute_input": "2022-08-07T10:29:32.651940Z",
     "iopub.status.busy": "2022-08-07T10:29:32.651213Z",
     "iopub.status.idle": "2022-08-07T10:29:32.657097Z",
     "shell.execute_reply": "2022-08-07T10:29:32.656276Z"
    },
    "papermill": {
     "duration": 0.031932,
     "end_time": "2022-08-07T10:29:32.659258",
     "exception": false,
     "start_time": "2022-08-07T10:29:32.627326",
     "status": "completed"
    },
    "tags": []
   },
   "outputs": [
    {
     "data": {
      "text/plain": [
       "(620, 7)"
      ]
     },
     "execution_count": 26,
     "metadata": {},
     "output_type": "execute_result"
    }
   ],
   "source": [
    "data.shape"
   ]
  },
  {
   "cell_type": "markdown",
   "id": "61ff89d4",
   "metadata": {
    "papermill": {
     "duration": 0.0224,
     "end_time": "2022-08-07T10:29:32.704614",
     "exception": false,
     "start_time": "2022-08-07T10:29:32.682214",
     "status": "completed"
    },
    "tags": []
   },
   "source": [
    "As we see data shape is reduced (we deleted 4 columns)"
   ]
  },
  {
   "cell_type": "markdown",
   "id": "1a027a5a",
   "metadata": {
    "papermill": {
     "duration": 0.023051,
     "end_time": "2022-08-07T10:29:32.749854",
     "exception": false,
     "start_time": "2022-08-07T10:29:32.726803",
     "status": "completed"
    },
    "tags": []
   },
   "source": [
    "We can rename columns like this"
   ]
  },
  {
   "cell_type": "code",
   "execution_count": 27,
   "id": "a7059bcb",
   "metadata": {
    "execution": {
     "iopub.execute_input": "2022-08-07T10:29:32.797235Z",
     "iopub.status.busy": "2022-08-07T10:29:32.796448Z",
     "iopub.status.idle": "2022-08-07T10:29:32.812331Z",
     "shell.execute_reply": "2022-08-07T10:29:32.811444Z"
    },
    "papermill": {
     "duration": 0.042213,
     "end_time": "2022-08-07T10:29:32.814631",
     "exception": false,
     "start_time": "2022-08-07T10:29:32.772418",
     "status": "completed"
    },
    "tags": []
   },
   "outputs": [
    {
     "data": {
      "text/html": [
       "<div>\n",
       "<style scoped>\n",
       "    .dataframe tbody tr th:only-of-type {\n",
       "        vertical-align: middle;\n",
       "    }\n",
       "\n",
       "    .dataframe tbody tr th {\n",
       "        vertical-align: top;\n",
       "    }\n",
       "\n",
       "    .dataframe thead th {\n",
       "        text-align: right;\n",
       "    }\n",
       "</style>\n",
       "<table border=\"1\" class=\"dataframe\">\n",
       "  <thead>\n",
       "    <tr style=\"text-align: right;\">\n",
       "      <th></th>\n",
       "      <th>Species</th>\n",
       "      <th>Weight</th>\n",
       "      <th>LengthVer</th>\n",
       "      <th>LengthDia</th>\n",
       "      <th>LengthCro</th>\n",
       "      <th>Height</th>\n",
       "      <th>Width</th>\n",
       "    </tr>\n",
       "  </thead>\n",
       "  <tbody>\n",
       "    <tr>\n",
       "      <th>0</th>\n",
       "      <td>Bream</td>\n",
       "      <td>242.0</td>\n",
       "      <td>23.2</td>\n",
       "      <td>25.4</td>\n",
       "      <td>30.0</td>\n",
       "      <td>11.5200</td>\n",
       "      <td>4.0200</td>\n",
       "    </tr>\n",
       "    <tr>\n",
       "      <th>1</th>\n",
       "      <td>Bream</td>\n",
       "      <td>290.0</td>\n",
       "      <td>24.0</td>\n",
       "      <td>26.3</td>\n",
       "      <td>31.2</td>\n",
       "      <td>12.4800</td>\n",
       "      <td>4.3056</td>\n",
       "    </tr>\n",
       "    <tr>\n",
       "      <th>2</th>\n",
       "      <td>Bream</td>\n",
       "      <td>340.0</td>\n",
       "      <td>23.9</td>\n",
       "      <td>26.5</td>\n",
       "      <td>31.1</td>\n",
       "      <td>12.3778</td>\n",
       "      <td>4.6961</td>\n",
       "    </tr>\n",
       "    <tr>\n",
       "      <th>3</th>\n",
       "      <td>Bream</td>\n",
       "      <td>363.0</td>\n",
       "      <td>26.3</td>\n",
       "      <td>29.0</td>\n",
       "      <td>33.5</td>\n",
       "      <td>12.7300</td>\n",
       "      <td>4.4555</td>\n",
       "    </tr>\n",
       "    <tr>\n",
       "      <th>4</th>\n",
       "      <td>Bream</td>\n",
       "      <td>430.0</td>\n",
       "      <td>26.5</td>\n",
       "      <td>29.0</td>\n",
       "      <td>34.0</td>\n",
       "      <td>12.4440</td>\n",
       "      <td>5.1340</td>\n",
       "    </tr>\n",
       "  </tbody>\n",
       "</table>\n",
       "</div>"
      ],
      "text/plain": [
       "  Species  Weight  LengthVer  LengthDia  LengthCro   Height   Width\n",
       "0   Bream   242.0       23.2       25.4       30.0  11.5200  4.0200\n",
       "1   Bream   290.0       24.0       26.3       31.2  12.4800  4.3056\n",
       "2   Bream   340.0       23.9       26.5       31.1  12.3778  4.6961\n",
       "3   Bream   363.0       26.3       29.0       33.5  12.7300  4.4555\n",
       "4   Bream   430.0       26.5       29.0       34.0  12.4440  5.1340"
      ]
     },
     "execution_count": 27,
     "metadata": {},
     "output_type": "execute_result"
    }
   ],
   "source": [
    "data.rename(columns= {'Length1':'LengthVer', 'Length2':'LengthDia', 'Length3':'LengthCro'}, inplace=True)\n",
    "data.head()"
   ]
  },
  {
   "cell_type": "markdown",
   "id": "3ca196ea",
   "metadata": {
    "papermill": {
     "duration": 0.023315,
     "end_time": "2022-08-07T10:29:32.861312",
     "exception": false,
     "start_time": "2022-08-07T10:29:32.837997",
     "status": "completed"
    },
    "tags": []
   },
   "source": [
    "# Linear regression"
   ]
  },
  {
   "cell_type": "code",
   "execution_count": 28,
   "id": "96394fab",
   "metadata": {
    "execution": {
     "iopub.execute_input": "2022-08-07T10:29:32.979199Z",
     "iopub.status.busy": "2022-08-07T10:29:32.978234Z",
     "iopub.status.idle": "2022-08-07T10:29:32.983354Z",
     "shell.execute_reply": "2022-08-07T10:29:32.982475Z"
    },
    "papermill": {
     "duration": 0.032848,
     "end_time": "2022-08-07T10:29:32.985825",
     "exception": false,
     "start_time": "2022-08-07T10:29:32.952977",
     "status": "completed"
    },
    "tags": []
   },
   "outputs": [],
   "source": [
    "y = data['Weight']\n",
    "X = data.iloc[:,2:7]"
   ]
  },
  {
   "cell_type": "code",
   "execution_count": 29,
   "id": "a15e5fde",
   "metadata": {},
   "outputs": [
    {
     "data": {
      "text/plain": [
       "0      242.0\n",
       "1      290.0\n",
       "2      340.0\n",
       "3      363.0\n",
       "4      430.0\n",
       "       ...  \n",
       "619     12.2\n",
       "620     13.4\n",
       "621     12.2\n",
       "622     19.7\n",
       "623     19.9\n",
       "Name: Weight, Length: 620, dtype: float64"
      ]
     },
     "execution_count": 29,
     "metadata": {},
     "output_type": "execute_result"
    }
   ],
   "source": [
    "y"
   ]
  },
  {
   "cell_type": "code",
   "execution_count": 30,
   "id": "5aa6f748",
   "metadata": {},
   "outputs": [
    {
     "data": {
      "text/html": [
       "<div>\n",
       "<style scoped>\n",
       "    .dataframe tbody tr th:only-of-type {\n",
       "        vertical-align: middle;\n",
       "    }\n",
       "\n",
       "    .dataframe tbody tr th {\n",
       "        vertical-align: top;\n",
       "    }\n",
       "\n",
       "    .dataframe thead th {\n",
       "        text-align: right;\n",
       "    }\n",
       "</style>\n",
       "<table border=\"1\" class=\"dataframe\">\n",
       "  <thead>\n",
       "    <tr style=\"text-align: right;\">\n",
       "      <th></th>\n",
       "      <th>LengthVer</th>\n",
       "      <th>LengthDia</th>\n",
       "      <th>LengthCro</th>\n",
       "      <th>Height</th>\n",
       "      <th>Width</th>\n",
       "    </tr>\n",
       "  </thead>\n",
       "  <tbody>\n",
       "    <tr>\n",
       "      <th>0</th>\n",
       "      <td>23.2</td>\n",
       "      <td>25.4</td>\n",
       "      <td>30.0</td>\n",
       "      <td>11.5200</td>\n",
       "      <td>4.0200</td>\n",
       "    </tr>\n",
       "    <tr>\n",
       "      <th>1</th>\n",
       "      <td>24.0</td>\n",
       "      <td>26.3</td>\n",
       "      <td>31.2</td>\n",
       "      <td>12.4800</td>\n",
       "      <td>4.3056</td>\n",
       "    </tr>\n",
       "    <tr>\n",
       "      <th>2</th>\n",
       "      <td>23.9</td>\n",
       "      <td>26.5</td>\n",
       "      <td>31.1</td>\n",
       "      <td>12.3778</td>\n",
       "      <td>4.6961</td>\n",
       "    </tr>\n",
       "    <tr>\n",
       "      <th>3</th>\n",
       "      <td>26.3</td>\n",
       "      <td>29.0</td>\n",
       "      <td>33.5</td>\n",
       "      <td>12.7300</td>\n",
       "      <td>4.4555</td>\n",
       "    </tr>\n",
       "    <tr>\n",
       "      <th>4</th>\n",
       "      <td>26.5</td>\n",
       "      <td>29.0</td>\n",
       "      <td>34.0</td>\n",
       "      <td>12.4440</td>\n",
       "      <td>5.1340</td>\n",
       "    </tr>\n",
       "    <tr>\n",
       "      <th>...</th>\n",
       "      <td>...</td>\n",
       "      <td>...</td>\n",
       "      <td>...</td>\n",
       "      <td>...</td>\n",
       "      <td>...</td>\n",
       "    </tr>\n",
       "    <tr>\n",
       "      <th>619</th>\n",
       "      <td>11.5</td>\n",
       "      <td>12.2</td>\n",
       "      <td>13.4</td>\n",
       "      <td>2.0904</td>\n",
       "      <td>1.3936</td>\n",
       "    </tr>\n",
       "    <tr>\n",
       "      <th>620</th>\n",
       "      <td>11.7</td>\n",
       "      <td>12.4</td>\n",
       "      <td>13.5</td>\n",
       "      <td>2.4300</td>\n",
       "      <td>1.2690</td>\n",
       "    </tr>\n",
       "    <tr>\n",
       "      <th>621</th>\n",
       "      <td>12.1</td>\n",
       "      <td>13.0</td>\n",
       "      <td>13.8</td>\n",
       "      <td>2.2770</td>\n",
       "      <td>1.2558</td>\n",
       "    </tr>\n",
       "    <tr>\n",
       "      <th>622</th>\n",
       "      <td>13.2</td>\n",
       "      <td>14.3</td>\n",
       "      <td>15.2</td>\n",
       "      <td>2.8728</td>\n",
       "      <td>2.0672</td>\n",
       "    </tr>\n",
       "    <tr>\n",
       "      <th>623</th>\n",
       "      <td>13.8</td>\n",
       "      <td>15.0</td>\n",
       "      <td>16.2</td>\n",
       "      <td>2.9322</td>\n",
       "      <td>1.8792</td>\n",
       "    </tr>\n",
       "  </tbody>\n",
       "</table>\n",
       "<p>620 rows × 5 columns</p>\n",
       "</div>"
      ],
      "text/plain": [
       "     LengthVer  LengthDia  LengthCro   Height   Width\n",
       "0         23.2       25.4       30.0  11.5200  4.0200\n",
       "1         24.0       26.3       31.2  12.4800  4.3056\n",
       "2         23.9       26.5       31.1  12.3778  4.6961\n",
       "3         26.3       29.0       33.5  12.7300  4.4555\n",
       "4         26.5       29.0       34.0  12.4440  5.1340\n",
       "..         ...        ...        ...      ...     ...\n",
       "619       11.5       12.2       13.4   2.0904  1.3936\n",
       "620       11.7       12.4       13.5   2.4300  1.2690\n",
       "621       12.1       13.0       13.8   2.2770  1.2558\n",
       "622       13.2       14.3       15.2   2.8728  2.0672\n",
       "623       13.8       15.0       16.2   2.9322  1.8792\n",
       "\n",
       "[620 rows x 5 columns]"
      ]
     },
     "execution_count": 30,
     "metadata": {},
     "output_type": "execute_result"
    }
   ],
   "source": [
    "X"
   ]
  },
  {
   "cell_type": "code",
   "execution_count": 31,
   "id": "165f42bf",
   "metadata": {
    "execution": {
     "iopub.execute_input": "2022-08-07T10:29:33.033894Z",
     "iopub.status.busy": "2022-08-07T10:29:33.033038Z",
     "iopub.status.idle": "2022-08-07T10:29:33.040298Z",
     "shell.execute_reply": "2022-08-07T10:29:33.039184Z"
    },
    "papermill": {
     "duration": 0.034105,
     "end_time": "2022-08-07T10:29:33.042794",
     "exception": false,
     "start_time": "2022-08-07T10:29:33.008689",
     "status": "completed"
    },
    "tags": []
   },
   "outputs": [
    {
     "name": "stdout",
     "output_type": "stream",
     "text": [
      "X_train dimension=  (496, 5)\n",
      "X_test dimension=  (124, 5)\n",
      "y_train dimension=  (496,)\n",
      "y_train dimension=  (124,)\n"
     ]
    }
   ],
   "source": [
    "X_train, X_test, y_train, y_test = train_test_split(X, y, test_size=0.20, random_state=0)\n",
    "\n",
    "print('X_train dimension= ', X_train.shape)\n",
    "print('X_test dimension= ', X_test.shape)\n",
    "print('y_train dimension= ', y_train.shape)\n",
    "print('y_train dimension= ', y_test.shape)"
   ]
  },
  {
   "cell_type": "code",
   "execution_count": 32,
   "id": "eee87ecf",
   "metadata": {
    "execution": {
     "iopub.execute_input": "2022-08-07T10:29:33.091038Z",
     "iopub.status.busy": "2022-08-07T10:29:33.090273Z",
     "iopub.status.idle": "2022-08-07T10:29:33.116240Z",
     "shell.execute_reply": "2022-08-07T10:29:33.115272Z"
    },
    "papermill": {
     "duration": 0.053292,
     "end_time": "2022-08-07T10:29:33.118900",
     "exception": false,
     "start_time": "2022-08-07T10:29:33.065608",
     "status": "completed"
    },
    "tags": []
   },
   "outputs": [
    {
     "data": {
      "text/plain": [
       "LinearRegression()"
      ]
     },
     "execution_count": 32,
     "metadata": {},
     "output_type": "execute_result"
    }
   ],
   "source": [
    "lr=LinearRegression()\n",
    "lr.fit(X_train, y_train)"
   ]
  },
  {
   "cell_type": "code",
   "execution_count": 33,
   "id": "ad63138d",
   "metadata": {
    "execution": {
     "iopub.execute_input": "2022-08-07T10:29:33.169004Z",
     "iopub.status.busy": "2022-08-07T10:29:33.168256Z",
     "iopub.status.idle": "2022-08-07T10:29:33.175042Z",
     "shell.execute_reply": "2022-08-07T10:29:33.173002Z"
    },
    "papermill": {
     "duration": 0.035498,
     "end_time": "2022-08-07T10:29:33.178600",
     "exception": false,
     "start_time": "2022-08-07T10:29:33.143102",
     "status": "completed"
    },
    "tags": []
   },
   "outputs": [
    {
     "name": "stdout",
     "output_type": "stream",
     "text": [
      "Model intercept:  -414.01670599151686\n",
      "Model coefficients:  [106.8312198  -52.86634293 -35.70458331  37.09870194  62.91980878]\n"
     ]
    }
   ],
   "source": [
    "print('Model intercept: ', lr.intercept_)\n",
    "print('Model coefficients: ', lr.coef_)"
   ]
  },
  {
   "cell_type": "code",
   "execution_count": 34,
   "id": "c568453c",
   "metadata": {
    "execution": {
     "iopub.execute_input": "2022-08-07T10:29:33.502788Z",
     "iopub.status.busy": "2022-08-07T10:29:33.501878Z",
     "iopub.status.idle": "2022-08-07T10:29:33.511157Z",
     "shell.execute_reply": "2022-08-07T10:29:33.510001Z"
    },
    "papermill": {
     "duration": 0.036176,
     "end_time": "2022-08-07T10:29:33.513544",
     "exception": false,
     "start_time": "2022-08-07T10:29:33.477368",
     "status": "completed"
    },
    "tags": []
   },
   "outputs": [
    {
     "data": {
      "text/plain": [
       "0.906702443657602"
      ]
     },
     "execution_count": 34,
     "metadata": {},
     "output_type": "execute_result"
    }
   ],
   "source": [
    "lr.score(X_test, y_test)"
   ]
  },
  {
   "cell_type": "code",
   "execution_count": 35,
   "id": "01ce50e7",
   "metadata": {},
   "outputs": [],
   "source": [
    "values=[0,10,0,0,0]"
   ]
  },
  {
   "cell_type": "code",
   "execution_count": 36,
   "id": "2624d1ac",
   "metadata": {},
   "outputs": [
    {
     "name": "stdout",
     "output_type": "stream",
     "text": [
      "please give values grater than zero\n"
     ]
    }
   ],
   "source": [
    "for i in values:\n",
    "    if i==0:\n",
    "        print('please give values grater than zero')\n",
    "        break\n",
    "else:\n",
    "    print(\"The weight is:\", lr.predict([values]))"
   ]
  },
  {
   "cell_type": "code",
   "execution_count": 37,
   "id": "d1c80726",
   "metadata": {},
   "outputs": [],
   "source": [
    "values=[10,10,10,10,10]"
   ]
  },
  {
   "cell_type": "code",
   "execution_count": 38,
   "id": "208fcb4a",
   "metadata": {},
   "outputs": [
    {
     "name": "stdout",
     "output_type": "stream",
     "text": [
      "The weight is: [768.77133675]\n"
     ]
    }
   ],
   "source": [
    "for i in values:\n",
    "    if i==0:\n",
    "        print('please give values grater than zero')\n",
    "        break\n",
    "else:\n",
    "    print(\"The weight is:\", lr.predict([values]))"
   ]
  }
 ],
 "metadata": {
  "kernelspec": {
   "display_name": "Python 3 (ipykernel)",
   "language": "python",
   "name": "python3"
  },
  "language_info": {
   "codemirror_mode": {
    "name": "ipython",
    "version": 3
   },
   "file_extension": ".py",
   "mimetype": "text/x-python",
   "name": "python",
   "nbconvert_exporter": "python",
   "pygments_lexer": "ipython3",
   "version": "3.9.12"
  },
  "papermill": {
   "default_parameters": {},
   "duration": 25.601799,
   "end_time": "2022-08-07T10:29:35.803293",
   "environment_variables": {},
   "exception": null,
   "input_path": "__notebook__.ipynb",
   "output_path": "__notebook__.ipynb",
   "parameters": {},
   "start_time": "2022-08-07T10:29:10.201494",
   "version": "2.3.4"
  }
 },
 "nbformat": 4,
 "nbformat_minor": 5
}
